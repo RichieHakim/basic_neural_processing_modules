{
 "cells": [
  {
   "cell_type": "code",
   "execution_count": null,
   "id": "db78c5f9",
   "metadata": {},
   "outputs": [],
   "source": []
  },
  {
   "cell_type": "code",
   "execution_count": null,
   "id": "0bd954fd",
   "metadata": {},
   "outputs": [],
   "source": [
    "# make first window\n",
    "wins_toTest = 2**np.arange(1,15)+1\n",
    "out_times_mine = np.zeros_like(wins_toTest, dtype='float64')\n",
    "for ii, win_len in enumerate(wins_toTest):\n",
    "    tic = time()\n",
    "    x_win_sorted = np.sort(x_in[:, 0:win_len], axis=1)\n",
    "\n",
    "    # type checking\n",
    "    # at least the preallocation requires a np.nan compatible data type\n",
    "    if x_in.dtype != 'float':\n",
    "        x_in = np.array(x_in, dtype='float64')\n",
    "    \n",
    "    idx_ptile = int(win_len * (ptile/100))\n",
    "    out_ptile = rolling_ptile_new(x_in, win_len, ptile)\n",
    "#     out_ptile = sorted_roll_apply(x_in, win_len, sorted_percentile, idx_ptile)\n",
    "    toc = time() - tic\n",
    "    out_times_mine[ii] = float(toc)\n",
    "    print(toc)"
   ]
  },
  {
   "cell_type": "code",
   "execution_count": 3,
   "id": "82c94df4",
   "metadata": {},
   "outputs": [],
   "source": [
    "import sys\n",
    "sys.path.append(r'/media/rich/Home_Linux_partition/github_repos/')"
   ]
  },
  {
   "cell_type": "code",
   "execution_count": 4,
   "id": "5d93bfda",
   "metadata": {},
   "outputs": [],
   "source": [
    "from rolling_percentile import rolling_percentile\n",
    "import numpy as np\n",
    "\n",
    "x_in = np.random.randint(0,100,(1,108000))"
   ]
  },
  {
   "cell_type": "code",
   "execution_count": null,
   "id": "ed5b131a",
   "metadata": {},
   "outputs": [],
   "source": []
  }
 ],
 "metadata": {
  "kernelspec": {
   "display_name": "Python 3",
   "language": "python",
   "name": "python3"
  },
  "language_info": {
   "codemirror_mode": {
    "name": "ipython",
    "version": 3
   },
   "file_extension": ".py",
   "mimetype": "text/x-python",
   "name": "python",
   "nbconvert_exporter": "python",
   "pygments_lexer": "ipython3",
   "version": "3.8.8"
  }
 },
 "nbformat": 4,
 "nbformat_minor": 5
}
