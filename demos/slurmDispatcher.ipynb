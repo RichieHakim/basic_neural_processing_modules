{
 "cells": [
  {
   "cell_type": "code",
   "execution_count": null,
   "metadata": {},
   "outputs": [],
   "source": [
    "# define job structure:\n",
    "# - experiment where each iteration is the same function run on different data\n",
    "\n",
    "# define paths:\n",
    "# - load path for each iteration\n",
    "# - outer save path for entire experiment\n",
    "# - inner save path for each iteration\n",
    "\n",
    "# define sbatch params \n",
    "\n",
    "# save files:\n",
    "# - config file for experiment\n",
    "# - sbatch template for experiment\n",
    "# - config file for iteration\n",
    "# - sbatch params for iteration\n",
    "# - results files"
   ]
  },
  {
   "cell_type": "code",
   "execution_count": null,
   "metadata": {},
   "outputs": [],
   "source": [
    "from pathlib import Path\n",
    "import json\n",
    "import yaml\n",
    "import os\n",
    "\n",
    "cwd = Path(os.getcwd()).resolve()"
   ]
  },
  {
   "cell_type": "code",
   "execution_count": null,
   "metadata": {},
   "outputs": [],
   "source": [
    "import sys\n",
    "sys.path.append('/n/data1/hms/neurobio/sabatini/rich/github_repos/')\n",
    "\n",
    "%load_ext autoreload\n",
    "%autoreload 2\n",
    "from basic_neural_processing_modules import *"
   ]
  },
  {
   "cell_type": "code",
   "execution_count": null,
   "metadata": {},
   "outputs": [],
   "source": [
    "# # test.py contents:\n",
    "\n",
    "# print('hi')\n",
    "\n",
    "# import sys\n",
    "# args = sys.argv\n",
    "\n",
    "# for arg in args:\n",
    "#     print(arg)\n",
    "    \n",
    "    \n",
    "# import sys\n",
    "# path_script, path_params, save_dir = sys.argv\n",
    "\n",
    "# import json\n",
    "# with open(path_params, 'r') as f:\n",
    "#     params = json.load(f)\n",
    "    \n",
    "# from pathlib import Path\n",
    "# with open(Path(save_dir).resolve() / 'IT_WORKED.json', 'w') as f:\n",
    "#     for param in params:\n",
    "#         json.dump(param, f)"
   ]
  },
  {
   "cell_type": "code",
   "execution_count": null,
   "metadata": {},
   "outputs": [],
   "source": [
    "sbatch_config_default = \\\n",
    "\"\"\"#!/usr/bin/bash\n",
    "#SBATCH --job-name=python_test\n",
    "#SBATCH --output=/home/rh183/script_logs/python_01_%j.log\n",
    "#SBATCH --partition=priority\n",
    "#SBATCH -c 1\n",
    "#SBATCH -n 1\n",
    "#SBATCH --mem=1GB\n",
    "#SBATCH --time=0-00:00:10\n",
    "\n",
    "python \"$@\"\n",
    "\"\"\""
   ]
  },
  {
   "cell_type": "code",
   "execution_count": null,
   "metadata": {},
   "outputs": [],
   "source": [
    "script_paths = ['/n/data1/hms/neurobio/sabatini/rich/github_repos/test.py']\n",
    "params_list = [[3,4], [5,6]]\n",
    "sbatch_config_list = [sbatch_config_default]\n",
    "max_n_jobs=2\n",
    "save_dir='/n/data1/hms/neurobio/sabatini/rich/analysis/'\n",
    "save_name='jobNum_'"
   ]
  },
  {
   "cell_type": "code",
   "execution_count": null,
   "metadata": {},
   "outputs": [],
   "source": [
    "cluster.batch_run(script_paths=script_paths,\n",
    "                    params_list=params_list,\n",
    "                    sbatch_config_list=sbatch_config_list,\n",
    "                    max_n_jobs=2,\n",
    "                    save_dir='/n/data1/hms/neurobio/sabatini/rich/analysis/',\n",
    "                    save_name='jobNum_',\n",
    "                    verbose=True,\n",
    "                    )"
   ]
  }
 ],
 "metadata": {
  "language_info": {
   "name": "python"
  },
  "orig_nbformat": 4
 },
 "nbformat": 4,
 "nbformat_minor": 2
}
